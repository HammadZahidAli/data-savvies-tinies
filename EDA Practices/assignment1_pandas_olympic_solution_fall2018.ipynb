{
  "nbformat": 4,
  "nbformat_minor": 0,
  "metadata": {
    "colab": {
      "name": "assignment1_pandas_olympic_solution_fall2018.ipynb",
      "version": "0.3.2",
      "provenance": [],
      "toc_visible": true
    },
    "kernelspec": {
      "display_name": "Python 3",
      "language": "python",
      "name": "python3"
    }
  },
  "cells": [
    {
      "metadata": {
        "id": "Msd0cHHlxKXY",
        "colab_type": "text"
      },
      "cell_type": "markdown",
      "source": [
        "\n",
        "    \n",
        "## [mlcourse.ai](mlcourse.ai) – Open Machine Learning Course \n",
        "Author: Arina Lopukhova (@erynn). Edited by [Yury Kashnitskiy](https://yorko.github.io) (@yorko). This material is subject to the terms and conditions of the [Creative Commons CC BY-NC-SA 4.0](https://creativecommons.org/licenses/by-nc-sa/4.0/) license. Free use is permitted for any non-commercial purpose."
      ]
    },
    {
      "metadata": {
        "id": "fYnqjcLlxKXd",
        "colab_type": "text"
      },
      "cell_type": "markdown",
      "source": [
        "# <center>Assignment #1. Fall 2018. Solution\n",
        "## <center>Exploratory data analysis of Olympic games with Pandas"
      ]
    },
    {
      "metadata": {
        "id": "Gj49iEyrxKXf",
        "colab_type": "text"
      },
      "cell_type": "markdown",
      "source": [
        "__There are ten questions about [120 years of Olympic history: athletes and results](https://www.kaggle.com/heesoo37/120-years-of-olympic-history-athletes-and-results/version/2) dataset in this task. Your task is to fill in the missing Python code and choose answers in [this web-form](https://docs.google.com/forms/d/179HYvlF_0x435CWdu2aOtR9a3flh0YCQXXNXhXaKw2M).__"
      ]
    },
    {
      "metadata": {
        "id": "5LejNUjGxKXg",
        "colab_type": "text"
      },
      "cell_type": "markdown",
      "source": [
        "Download the file `athlete_events.csv` from [Kaggle page](https://www.kaggle.com/heesoo37/120-years-of-olympic-history-athletes-and-results). The dataset has the following features (copied from Kaggle):\n",
        "\n",
        "- __ID__ - Unique number for each athlete\n",
        "- __Name__ - Athlete's name\n",
        "- __Sex__ - M or F\n",
        "- __Age__ - Integer\n",
        "- __Height__ - In centimeters\n",
        "- __Weight__ - In kilograms\n",
        "- __Team__ - Team name\n",
        "- __NOC__ - National Olympic Committee 3-letter code\n",
        "- __Games__ - Year and season\n",
        "- __Year__ - Integer\n",
        "- __Season__ - Summer or Winter\n",
        "- __City__ - Host city\n",
        "- __Sport__ - Sport\n",
        "- __Event__ - Event\n",
        "- __Medal__ - Gold, Silver, Bronze, or NA"
      ]
    },
    {
      "metadata": {
        "id": "MP8VxpkmxKXs",
        "colab_type": "code",
        "colab": {
          "base_uri": "https://localhost:8080/",
          "height": 204
        },
        "outputId": "8a4e7e56-c663-4716-b9f8-0d67cb4841ae"
      },
      "cell_type": "code",
      "source": [
        "import pandas as pd\n",
        "PATH = 'https://raw.githubusercontent.com/HammadZahidAli/datasavvies-tiny-world/master/EDA%20Practices/athlete_events.csv'\n",
        "data = pd.read_csv(PATH)\n",
        "\n",
        "data.sample(n=5)"
      ],
      "execution_count": 26,
      "outputs": [
        {
          "output_type": "execute_result",
          "data": {
            "text/html": [
              "<div>\n",
              "<style scoped>\n",
              "    .dataframe tbody tr th:only-of-type {\n",
              "        vertical-align: middle;\n",
              "    }\n",
              "\n",
              "    .dataframe tbody tr th {\n",
              "        vertical-align: top;\n",
              "    }\n",
              "\n",
              "    .dataframe thead th {\n",
              "        text-align: right;\n",
              "    }\n",
              "</style>\n",
              "<table border=\"1\" class=\"dataframe\">\n",
              "  <thead>\n",
              "    <tr style=\"text-align: right;\">\n",
              "      <th></th>\n",
              "      <th>ID</th>\n",
              "      <th>Name</th>\n",
              "      <th>Sex</th>\n",
              "      <th>Age</th>\n",
              "      <th>Height</th>\n",
              "      <th>Weight</th>\n",
              "      <th>Team</th>\n",
              "      <th>NOC</th>\n",
              "      <th>Games</th>\n",
              "      <th>Year</th>\n",
              "      <th>Season</th>\n",
              "      <th>City</th>\n",
              "      <th>Sport</th>\n",
              "      <th>Event</th>\n",
              "      <th>Medal</th>\n",
              "    </tr>\n",
              "  </thead>\n",
              "  <tbody>\n",
              "    <tr>\n",
              "      <th>146587</th>\n",
              "      <td>73574</td>\n",
              "      <td>Khaled Mahmoud</td>\n",
              "      <td>M</td>\n",
              "      <td>26.0</td>\n",
              "      <td>181.0</td>\n",
              "      <td>93.0</td>\n",
              "      <td>Egypt</td>\n",
              "      <td>EGY</td>\n",
              "      <td>1996 Summer</td>\n",
              "      <td>1996</td>\n",
              "      <td>Summer</td>\n",
              "      <td>Atlanta</td>\n",
              "      <td>Handball</td>\n",
              "      <td>Handball Men's Handball</td>\n",
              "      <td>NaN</td>\n",
              "    </tr>\n",
              "    <tr>\n",
              "      <th>252626</th>\n",
              "      <td>126506</td>\n",
              "      <td>Fritz Bchen Vikke</td>\n",
              "      <td>M</td>\n",
              "      <td>28.0</td>\n",
              "      <td>NaN</td>\n",
              "      <td>NaN</td>\n",
              "      <td>Denmark</td>\n",
              "      <td>DEN</td>\n",
              "      <td>1912 Summer</td>\n",
              "      <td>1912</td>\n",
              "      <td>Summer</td>\n",
              "      <td>Stockholm</td>\n",
              "      <td>Athletics</td>\n",
              "      <td>Athletics Men's Pole Vault</td>\n",
              "      <td>NaN</td>\n",
              "    </tr>\n",
              "    <tr>\n",
              "      <th>211414</th>\n",
              "      <td>106159</td>\n",
              "      <td>Jean-Paul Sauthier</td>\n",
              "      <td>M</td>\n",
              "      <td>30.0</td>\n",
              "      <td>180.0</td>\n",
              "      <td>79.0</td>\n",
              "      <td>France</td>\n",
              "      <td>FRA</td>\n",
              "      <td>1972 Summer</td>\n",
              "      <td>1972</td>\n",
              "      <td>Summer</td>\n",
              "      <td>Munich</td>\n",
              "      <td>Hockey</td>\n",
              "      <td>Hockey Men's Hockey</td>\n",
              "      <td>NaN</td>\n",
              "    </tr>\n",
              "    <tr>\n",
              "      <th>216999</th>\n",
              "      <td>108979</td>\n",
              "      <td>Erik Oskar Severin</td>\n",
              "      <td>M</td>\n",
              "      <td>44.0</td>\n",
              "      <td>NaN</td>\n",
              "      <td>NaN</td>\n",
              "      <td>Sweden</td>\n",
              "      <td>SWE</td>\n",
              "      <td>1924 Winter</td>\n",
              "      <td>1924</td>\n",
              "      <td>Winter</td>\n",
              "      <td>Chamonix</td>\n",
              "      <td>Curling</td>\n",
              "      <td>Curling Men's Curling</td>\n",
              "      <td>Silver</td>\n",
              "    </tr>\n",
              "    <tr>\n",
              "      <th>95062</th>\n",
              "      <td>48138</td>\n",
              "      <td>Csar Herrera Lpez</td>\n",
              "      <td>M</td>\n",
              "      <td>25.0</td>\n",
              "      <td>188.0</td>\n",
              "      <td>91.0</td>\n",
              "      <td>Cuba</td>\n",
              "      <td>CUB</td>\n",
              "      <td>1980 Summer</td>\n",
              "      <td>1980</td>\n",
              "      <td>Summer</td>\n",
              "      <td>Moskva</td>\n",
              "      <td>Rowing</td>\n",
              "      <td>Rowing Men's Quadruple Sculls</td>\n",
              "      <td>NaN</td>\n",
              "    </tr>\n",
              "  </tbody>\n",
              "</table>\n",
              "</div>"
            ],
            "text/plain": [
              "            ID                Name Sex   Age  Height  Weight     Team  NOC  \\\n",
              "146587   73574      Khaled Mahmoud   M  26.0   181.0    93.0    Egypt  EGY   \n",
              "252626  126506   Fritz Bchen Vikke   M  28.0     NaN     NaN  Denmark  DEN   \n",
              "211414  106159  Jean-Paul Sauthier   M  30.0   180.0    79.0   France  FRA   \n",
              "216999  108979  Erik Oskar Severin   M  44.0     NaN     NaN   Sweden  SWE   \n",
              "95062    48138   Csar Herrera Lpez   M  25.0   188.0    91.0     Cuba  CUB   \n",
              "\n",
              "              Games  Year  Season       City      Sport  \\\n",
              "146587  1996 Summer  1996  Summer    Atlanta   Handball   \n",
              "252626  1912 Summer  1912  Summer  Stockholm  Athletics   \n",
              "211414  1972 Summer  1972  Summer     Munich     Hockey   \n",
              "216999  1924 Winter  1924  Winter   Chamonix    Curling   \n",
              "95062   1980 Summer  1980  Summer     Moskva     Rowing   \n",
              "\n",
              "                                Event   Medal  \n",
              "146587        Handball Men's Handball     NaN  \n",
              "252626     Athletics Men's Pole Vault     NaN  \n",
              "211414            Hockey Men's Hockey     NaN  \n",
              "216999          Curling Men's Curling  Silver  \n",
              "95062   Rowing Men's Quadruple Sculls     NaN  "
            ]
          },
          "metadata": {
            "tags": []
          },
          "execution_count": 26
        }
      ]
    },
    {
      "metadata": {
        "id": "cIue-ntSxKX0",
        "colab_type": "text"
      },
      "cell_type": "markdown",
      "source": [
        "__1. How old were the youngest male and female participants of the 1996 Olympics?__\n",
        "\n",
        "- 16 and 15\n",
        "- 14 and 12 **[+]**\n",
        "- 16 and 12\n",
        "- 13 and 11"
      ]
    },
    {
      "metadata": {
        "id": "pEvkx8_wxKX1",
        "colab_type": "text"
      },
      "cell_type": "markdown",
      "source": [
        "Straightforward way:"
      ]
    },
    {
      "metadata": {
        "id": "x7hmaiVLxKX3",
        "colab_type": "code",
        "colab": {
          "base_uri": "https://localhost:8080/",
          "height": 34
        },
        "outputId": "d6a48f03-f4d0-4b01-cbac-abae965bbeb0"
      },
      "cell_type": "code",
      "source": [
        "# male\n",
        "data.loc[(data.Year == 1996) & (data['Sex'] == 'M'), 'Age'].min()"
      ],
      "execution_count": 28,
      "outputs": [
        {
          "output_type": "execute_result",
          "data": {
            "text/plain": [
              "14.0"
            ]
          },
          "metadata": {
            "tags": []
          },
          "execution_count": 28
        }
      ]
    },
    {
      "metadata": {
        "id": "ZYHLCwxPxKX8",
        "colab_type": "code",
        "colab": {
          "base_uri": "https://localhost:8080/",
          "height": 34
        },
        "outputId": "a9a7cb09-6ad5-42e9-e0fb-f3c4156c96a8"
      },
      "cell_type": "code",
      "source": [
        "# female\n",
        "data.loc[(data.Year == 1996) & (data['Sex'] == 'F'), 'Age'].min()"
      ],
      "execution_count": 29,
      "outputs": [
        {
          "output_type": "execute_result",
          "data": {
            "text/plain": [
              "12.0"
            ]
          },
          "metadata": {
            "tags": []
          },
          "execution_count": 29
        }
      ]
    },
    {
      "metadata": {
        "id": "6K7dxKNqxKYB",
        "colab_type": "text"
      },
      "cell_type": "markdown",
      "source": [
        "A \"fancier\" way:"
      ]
    },
    {
      "metadata": {
        "id": "xY8ZgMhaxKYC",
        "colab_type": "code",
        "colab": {
          "base_uri": "https://localhost:8080/",
          "height": 85
        },
        "outputId": "b17b90bf-bfdb-4ede-9d3a-598a86d26bf6"
      },
      "cell_type": "code",
      "source": [
        "(data[data.Year == 1996]\n",
        ".groupby('Sex')\n",
        ".agg('min')\n",
        ".Age)"
      ],
      "execution_count": 30,
      "outputs": [
        {
          "output_type": "execute_result",
          "data": {
            "text/plain": [
              "Sex\n",
              "F    12.0\n",
              "M    14.0\n",
              "Name: Age, dtype: float64"
            ]
          },
          "metadata": {
            "tags": []
          },
          "execution_count": 30
        }
      ]
    },
    {
      "metadata": {
        "id": "5CIpIrgwxKYI",
        "colab_type": "text"
      },
      "cell_type": "markdown",
      "source": [
        "__2. What was the percentage of male gymnasts among all the male participants of the 2000 Olympics? Round the answer to the first decimal.__\n",
        "\n",
        "*Hint:* here and further if needed drop duplicated sportsmen to count only unique ones. \n",
        "\n",
        "- 0.2\n",
        "- 1.5 **[+]**\n",
        "- 2.5\n",
        "- 7.7"
      ]
    },
    {
      "metadata": {
        "id": "7TQTz5k3xKYJ",
        "colab_type": "code",
        "colab": {
          "base_uri": "https://localhost:8080/",
          "height": 34
        },
        "outputId": "c4091afe-55a0-49a7-8d75-26ae8ddee836"
      },
      "cell_type": "code",
      "source": [
        "q = '(Year == 2000) & (Sex == \"M\")'\n",
        "# data.query(q) equals to data[(data.Year == 2000) & (data.Sex == 'M')]\n",
        "sportsmen_count = len(data.query(q)\n",
        "                     .drop_duplicates(subset='Name'))\n",
        "gymnasts_count = len(data.query(q)\n",
        "                    .query('Sport == \"Gymnastics\"')\n",
        "                    .drop_duplicates(subset='Name'))\n",
        "\n",
        "print('%.1f' % (gymnasts_count / sportsmen_count * 100))"
      ],
      "execution_count": 31,
      "outputs": [
        {
          "output_type": "stream",
          "text": [
            "1.5\n"
          ],
          "name": "stdout"
        }
      ]
    },
    {
      "metadata": {
        "id": "1i-LcwpkxKYO",
        "colab_type": "text"
      },
      "cell_type": "markdown",
      "source": [
        "__3. What are the mean and standard deviation of height for female basketball players participated in the 2000 Olympics? Round the answer to the first decimal.__\n",
        "\n",
        "- 178.5 and 7.2\n",
        "- 179.4 and 10\n",
        "- 180.7 and 6.7\n",
        "- 182.4 and 9.1 **[+]**"
      ]
    },
    {
      "metadata": {
        "id": "ZgPn9MCWxKYP",
        "colab_type": "code",
        "colab": {
          "base_uri": "https://localhost:8080/",
          "height": 170
        },
        "outputId": "e4f2cc67-1de3-4063-eda8-5b7037df5248"
      },
      "cell_type": "code",
      "source": [
        "q = '(Year == 2000) & (Sex == \"F\") & (Sport == \"Basketball\")'\n",
        "(data.query(q)\n",
        ".describe()\n",
        ".Height)"
      ],
      "execution_count": 32,
      "outputs": [
        {
          "output_type": "execute_result",
          "data": {
            "text/plain": [
              "count    142.000000\n",
              "mean     182.387324\n",
              "std        9.139462\n",
              "min      162.000000\n",
              "25%      175.000000\n",
              "50%      182.000000\n",
              "75%      190.000000\n",
              "max      213.000000\n",
              "Name: Height, dtype: float64"
            ]
          },
          "metadata": {
            "tags": []
          },
          "execution_count": 32
        }
      ]
    },
    {
      "metadata": {
        "id": "C7hH5o-gxKYU",
        "colab_type": "text"
      },
      "cell_type": "markdown",
      "source": [
        "__4. Find a sportsperson participated in the 2002 Olympics, with the highest weight among other participants of the same Olympics. What sport did he or she do?__\n",
        "\n",
        "- Judo\n",
        "- Bobsleigh **[+]**\n",
        "- Weightlifting\n",
        "- Boxing"
      ]
    },
    {
      "metadata": {
        "id": "QkznQtPIxKYW",
        "colab_type": "code",
        "colab": {
          "base_uri": "https://localhost:8080/",
          "height": 34
        },
        "outputId": "b807291c-67f8-4f12-afb0-ac80f0c634a2"
      },
      "cell_type": "code",
      "source": [
        "max_weight_idx = (data[data.Year == 2002]\n",
        "                 .Weight\n",
        "                 .idxmax())\n",
        "\n",
        "(data[data.Year == 2002]\n",
        ".loc[max_weight_idx]\n",
        ".Sport)"
      ],
      "execution_count": 33,
      "outputs": [
        {
          "output_type": "execute_result",
          "data": {
            "text/plain": [
              "'Bobsleigh'"
            ]
          },
          "metadata": {
            "tags": []
          },
          "execution_count": 33
        }
      ]
    },
    {
      "metadata": {
        "id": "W7uUYSv8xKYd",
        "colab_type": "text"
      },
      "cell_type": "markdown",
      "source": [
        "__5. How many times did Pawe Abratkiewicz participate in the Olympics held in different years?__\n",
        "\n",
        "- 0\n",
        "- 1 \n",
        "- 2\n",
        "- 3 **[+]**"
      ]
    },
    {
      "metadata": {
        "id": "fqxcYzLTxKYe",
        "colab_type": "text"
      },
      "cell_type": "markdown",
      "source": [
        "Straightforward way:"
      ]
    },
    {
      "metadata": {
        "id": "Dy9_zE5fxKYg",
        "colab_type": "code",
        "colab": {
          "base_uri": "https://localhost:8080/",
          "height": 34
        },
        "outputId": "9ba6c067-2220-474c-cc71-bb4ae32baaa2"
      },
      "cell_type": "code",
      "source": [
        "len(data[data.Name == 'Pawe Abratkiewicz']\n",
        "   .drop_duplicates(subset='Year')\n",
        "   .Year) "
      ],
      "execution_count": 34,
      "outputs": [
        {
          "output_type": "execute_result",
          "data": {
            "text/plain": [
              "3"
            ]
          },
          "metadata": {
            "tags": []
          },
          "execution_count": 34
        }
      ]
    },
    {
      "metadata": {
        "id": "6_hJj2JUxKYm",
        "colab_type": "text"
      },
      "cell_type": "markdown",
      "source": [
        "\"Fancier\" way:"
      ]
    },
    {
      "metadata": {
        "id": "B5EkqNRmxKYn",
        "colab_type": "code",
        "colab": {
          "base_uri": "https://localhost:8080/",
          "height": 34
        },
        "outputId": "83a7ed49-555f-42c9-aee0-31beda55a32f"
      },
      "cell_type": "code",
      "source": [
        "len(data[data.Name == 'Pawe Abratkiewicz']\n",
        "   .groupby('Year'))"
      ],
      "execution_count": 35,
      "outputs": [
        {
          "output_type": "execute_result",
          "data": {
            "text/plain": [
              "3"
            ]
          },
          "metadata": {
            "tags": []
          },
          "execution_count": 35
        }
      ]
    },
    {
      "metadata": {
        "id": "Tx4Luw5ExKYv",
        "colab_type": "text"
      },
      "cell_type": "markdown",
      "source": [
        "__6. How many silver medals in tennis did Australia win at the 2000 Olympics?__\n",
        "\n",
        "- 0\n",
        "- 1 \n",
        "- 2 **[+]**\n",
        "- 3 "
      ]
    },
    {
      "metadata": {
        "id": "VAGAbfjyxKYx",
        "colab_type": "text"
      },
      "cell_type": "markdown",
      "source": [
        "Straightforward way:"
      ]
    },
    {
      "metadata": {
        "id": "goKtI3YVxKY0",
        "colab_type": "code",
        "colab": {
          "base_uri": "https://localhost:8080/",
          "height": 34
        },
        "outputId": "9a6a263d-2691-42ef-f5ef-79f563ae9a87"
      },
      "cell_type": "code",
      "source": [
        "q = '(Year == 2000) & (Team == \"Australia\") & (Medal == \"Silver\") & (Sport == \"Tennis\")'\n",
        "data.query(q).shape[0]"
      ],
      "execution_count": 36,
      "outputs": [
        {
          "output_type": "execute_result",
          "data": {
            "text/plain": [
              "2"
            ]
          },
          "metadata": {
            "tags": []
          },
          "execution_count": 36
        }
      ]
    },
    {
      "metadata": {
        "id": "B6WXr8p2xKY9",
        "colab_type": "text"
      },
      "cell_type": "markdown",
      "source": [
        "\"Fancier\" way:"
      ]
    },
    {
      "metadata": {
        "id": "2tor6mACxKZA",
        "colab_type": "code",
        "colab": {
          "base_uri": "https://localhost:8080/",
          "height": 34
        },
        "outputId": "be97b050-dbc1-40ec-ff52-55b993bd5a10"
      },
      "cell_type": "code",
      "source": [
        "q = '(Year == 2000) & (Team == \"Australia\")'\n",
        "(data.query(q)\n",
        ".groupby(['Medal', 'Sport'])\n",
        ".get_group(('Silver', 'Tennis'))\n",
        ".shape[0])"
      ],
      "execution_count": 37,
      "outputs": [
        {
          "output_type": "execute_result",
          "data": {
            "text/plain": [
              "2"
            ]
          },
          "metadata": {
            "tags": []
          },
          "execution_count": 37
        }
      ]
    },
    {
      "metadata": {
        "id": "Bh2ny7KexKZF",
        "colab_type": "text"
      },
      "cell_type": "markdown",
      "source": [
        "__7. Is it true that Switzerland won fewer medals than Serbia at the 2016 Olympics? Do not consider NaN values in _Medal_ column.__ \n",
        "\n",
        "- Yes **[+]**\n",
        "- No"
      ]
    },
    {
      "metadata": {
        "id": "61pjuUf2xKZG",
        "colab_type": "text"
      },
      "cell_type": "markdown",
      "source": [
        "Straightforward way:"
      ]
    },
    {
      "metadata": {
        "id": "eBnaZsEJxKZH",
        "colab_type": "code",
        "colab": {
          "base_uri": "https://localhost:8080/",
          "height": 34
        },
        "outputId": "686bc18f-dff1-4fdd-c2ee-f87f5adacc9d"
      },
      "cell_type": "code",
      "source": [
        "Switzerland_medals = len(data.query('(Year == 2016) & (Team == \"Switzerland\")')\n",
        "                        .dropna(subset=['Medal']))\n",
        "\n",
        "Serbia_medals = len(data.query('(Year == 2016) & (Team == \"Serbia\")')\n",
        "                   .dropna(subset=['Medal']))\n",
        "\n",
        "Switzerland_medals, Serbia_medals"
      ],
      "execution_count": 38,
      "outputs": [
        {
          "output_type": "execute_result",
          "data": {
            "text/plain": [
              "(11, 54)"
            ]
          },
          "metadata": {
            "tags": []
          },
          "execution_count": 38
        }
      ]
    },
    {
      "metadata": {
        "id": "eEiTpF8WxKZM",
        "colab_type": "text"
      },
      "cell_type": "markdown",
      "source": [
        "\"Fancier\" way:"
      ]
    },
    {
      "metadata": {
        "id": "qgq6xNXbxKZN",
        "colab_type": "code",
        "colab": {
          "base_uri": "https://localhost:8080/",
          "height": 85
        },
        "outputId": "3b599a84-f21f-455a-8ba6-47b3dbe828f5"
      },
      "cell_type": "code",
      "source": [
        "(data[data.Year == 2016]\n",
        ".dropna(subset=['Medal']) \n",
        ".groupby('Team') \n",
        ".size()\n",
        "[['Switzerland', 'Serbia']])"
      ],
      "execution_count": 39,
      "outputs": [
        {
          "output_type": "execute_result",
          "data": {
            "text/plain": [
              "Team\n",
              "Switzerland    11\n",
              "Serbia         54\n",
              "dtype: int64"
            ]
          },
          "metadata": {
            "tags": []
          },
          "execution_count": 39
        }
      ]
    },
    {
      "metadata": {
        "id": "UWfb3VoBxKZS",
        "colab_type": "text"
      },
      "cell_type": "markdown",
      "source": [
        "__8. What age category did the fewest and the most participants of the 2014 Olympics belong to?__\n",
        "- [45-55] and [25-35) correspondingly **[+]**\n",
        "- [45-55] and [15-25) correspondingly\n",
        "- [35-45) and [25-35) correspondingly\n",
        "- [45-55] and [35-45) correspondingly"
      ]
    },
    {
      "metadata": {
        "id": "UkNwbyAhxKZT",
        "colab_type": "text"
      },
      "cell_type": "markdown",
      "source": [
        "Straightforward way:"
      ]
    },
    {
      "metadata": {
        "id": "CCkBSlSNxKZT",
        "colab_type": "code",
        "colab": {
          "base_uri": "https://localhost:8080/",
          "height": 85
        },
        "outputId": "849754d3-d8c2-4988-f278-89bbdc2c0d0b"
      },
      "cell_type": "code",
      "source": [
        "participants_2014 = (data[data.Year == 2014]\n",
        "                    .drop_duplicates(subset='Name'))\n",
        "\n",
        "print('[15, 25): ', len(participants_2014.query('(Age >= 15) & (Age < 25)')))\n",
        "\n",
        "print('[25, 35): ', len(participants_2014.query('(Age >= 25) & (Age < 35)')))\n",
        "\n",
        "print('[35, 45): ', len(participants_2014.query('(Age >= 35) & (Age < 45)')))\n",
        "\n",
        "print('[45, 55]: ', len(participants_2014.query('(Age >= 45) & (Age <= 55)')))"
      ],
      "execution_count": 40,
      "outputs": [
        {
          "output_type": "stream",
          "text": [
            "[15, 25):  1193\n",
            "[25, 35):  1396\n",
            "[35, 45):  150\n",
            "[45, 55]:  5\n"
          ],
          "name": "stdout"
        }
      ]
    },
    {
      "metadata": {
        "id": "fRw8S2g-xKZa",
        "colab_type": "text"
      },
      "cell_type": "markdown",
      "source": [
        "\"Fancier\" way:"
      ]
    },
    {
      "metadata": {
        "id": "YyxN-OwgxKZb",
        "colab_type": "code",
        "colab": {},
        "outputId": "9b513c98-d7c2-4af1-b173-cebe9e8c8b25"
      },
      "cell_type": "code",
      "source": [
        "def age_category(age):\n",
        "    '''Maps age to four categories'''\n",
        "\n",
        "    if 15 <= age < 25:\n",
        "        return '[15, 25)'\n",
        "    elif 25 <= age < 35:\n",
        "        return '[25, 35)'\n",
        "    elif 35 <= age < 45:\n",
        "        return '[35, 45)'\n",
        "    return '[45, 55]'\n",
        "\n",
        "\n",
        "# map() applies age_category() function to every value in data.Age\n",
        "data['age_category'] = data.Age.map(age_category)\n",
        "(data[data.Year == 2014]\n",
        ".drop_duplicates(subset='Name')  \n",
        ".groupby('age_category')\n",
        ".size())"
      ],
      "execution_count": 0,
      "outputs": [
        {
          "output_type": "execute_result",
          "data": {
            "text/plain": [
              "age_category\n",
              "[15, 25)    1193\n",
              "[25, 35)    1396\n",
              "[35, 45)     150\n",
              "[45, 55]       5\n",
              "dtype: int64"
            ]
          },
          "metadata": {
            "tags": []
          },
          "execution_count": 17
        }
      ]
    },
    {
      "metadata": {
        "id": "9MKLIs4dxKZf",
        "colab_type": "text"
      },
      "cell_type": "markdown",
      "source": [
        "__9. Is it true that there were Summer Olympics held in Lake Placid? Is it true that there were Winter Olympics held in Sankt Moritz?__\n",
        "\n",
        "- Yes, Yes\n",
        "- Yes, No\n",
        "- No, Yes **[+]**\n",
        "- No, No "
      ]
    },
    {
      "metadata": {
        "id": "VSVHhVtCxKZg",
        "colab_type": "code",
        "colab": {},
        "outputId": "d31ed88b-a6d9-47e6-e90c-3f000fdaca6e"
      },
      "cell_type": "code",
      "source": [
        "(pd.crosstab(data.City, data.Season)\n",
        ".loc[['Lake Placid', 'Sankt Moritz']])"
      ],
      "execution_count": 0,
      "outputs": [
        {
          "output_type": "execute_result",
          "data": {
            "text/html": [
              "<div>\n",
              "<style scoped>\n",
              "    .dataframe tbody tr th:only-of-type {\n",
              "        vertical-align: middle;\n",
              "    }\n",
              "\n",
              "    .dataframe tbody tr th {\n",
              "        vertical-align: top;\n",
              "    }\n",
              "\n",
              "    .dataframe thead th {\n",
              "        text-align: right;\n",
              "    }\n",
              "</style>\n",
              "<table border=\"1\" class=\"dataframe\">\n",
              "  <thead>\n",
              "    <tr style=\"text-align: right;\">\n",
              "      <th>Season</th>\n",
              "      <th>Summer</th>\n",
              "      <th>Winter</th>\n",
              "    </tr>\n",
              "    <tr>\n",
              "      <th>City</th>\n",
              "      <th></th>\n",
              "      <th></th>\n",
              "    </tr>\n",
              "  </thead>\n",
              "  <tbody>\n",
              "    <tr>\n",
              "      <th>Lake Placid</th>\n",
              "      <td>0</td>\n",
              "      <td>2098</td>\n",
              "    </tr>\n",
              "    <tr>\n",
              "      <th>Sankt Moritz</th>\n",
              "      <td>0</td>\n",
              "      <td>1657</td>\n",
              "    </tr>\n",
              "  </tbody>\n",
              "</table>\n",
              "</div>"
            ],
            "text/plain": [
              "Season        Summer  Winter\n",
              "City                        \n",
              "Lake Placid        0    2098\n",
              "Sankt Moritz       0    1657"
            ]
          },
          "metadata": {
            "tags": []
          },
          "execution_count": 18
        }
      ]
    },
    {
      "metadata": {
        "id": "UG2kTzuTxKZl",
        "colab_type": "text"
      },
      "cell_type": "markdown",
      "source": [
        "__10. What is the absolute difference between the number of unique sports at the 1995 Olympics and 2016 Olympics?__\n",
        "\n",
        "- 16\n",
        "- 24\n",
        "- 26\n",
        "- 34 **[+]**"
      ]
    },
    {
      "metadata": {
        "id": "JmX8zEOUxKZm",
        "colab_type": "code",
        "colab": {},
        "outputId": "26a868ee-766b-4fa7-bfa2-80912bed6b73"
      },
      "cell_type": "code",
      "source": [
        "abs(data[data.Year == 1995].Sport.nunique() - data[data.Year == 2016].Sport.nunique())"
      ],
      "execution_count": 0,
      "outputs": [
        {
          "output_type": "execute_result",
          "data": {
            "text/plain": [
              "34"
            ]
          },
          "metadata": {
            "tags": []
          },
          "execution_count": 19
        }
      ]
    }
  ]
}